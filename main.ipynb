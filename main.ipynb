{
 "cells": [
  {
   "cell_type": "code",
   "execution_count": 1,
   "id": "221a4afe-71fa-4242-8e6d-db2099fb3410",
   "metadata": {},
   "outputs": [],
   "source": [
    "import matplotlib.pyplot as plt"
   ]
  },
  {
   "cell_type": "code",
   "execution_count": 2,
   "id": "759a27e7-85b6-47c4-84fd-9229473d7143",
   "metadata": {},
   "outputs": [],
   "source": [
    "import matplotlib.dates as mdates"
   ]
  },
  {
   "cell_type": "code",
   "execution_count": 3,
   "id": "ad607eff-c669-462c-b669-4e2430dae588",
   "metadata": {},
   "outputs": [],
   "source": [
    "import importlib"
   ]
  },
  {
   "cell_type": "code",
   "execution_count": 4,
   "id": "cd60ba60-cd18-4f07-a6b3-ca02f4bc6b59",
   "metadata": {},
   "outputs": [],
   "source": [
    "import sh_ssw_methods as ssw"
   ]
  },
  {
   "cell_type": "code",
   "execution_count": 5,
   "id": "c112aa0b-85b2-433e-bdb5-173c05be0adb",
   "metadata": {},
   "outputs": [],
   "source": [
    "import numpy as np\n",
    "import pandas as pd"
   ]
  },
  {
   "cell_type": "code",
   "execution_count": 6,
   "id": "564f45db-7e66-4fff-bb3e-f57cb97253c9",
   "metadata": {},
   "outputs": [],
   "source": [
    "from config import params"
   ]
  },
  {
   "cell_type": "markdown",
   "id": "0ff9713e-5bfd-4ad7-a796-78bbbf627ceb",
   "metadata": {},
   "source": [
    "- identify events"
   ]
  },
  {
   "cell_type": "code",
   "execution_count": 7,
   "id": "950af446-64e2-4947-8867-94902147cb24",
   "metadata": {},
   "outputs": [],
   "source": [
    "event_dates_all, defn_all = [], []"
   ]
  },
  {
   "cell_type": "code",
   "execution_count": 8,
   "id": "2e0d4a5e-17de-458b-9ce7-6a847d802422",
   "metadata": {},
   "outputs": [
    {
     "name": "stdout",
     "output_type": "stream",
     "text": [
      "Saved 28 events to EOF1.Z50.gt1.0.csv\n",
      "Saved 29 events to EOF1.Z10.gt1.0.csv\n",
      "Saved 29 events to EOF1.Z1.gt1.0.csv\n"
     ]
    }
   ],
   "source": [
    "# zeof1_lim\n",
    "ze_lv50 = ssw.zeof1_lim(**params[\"zeof1_lim_lv50\"])\n",
    "ze_lv10 = ssw.zeof1_lim(**params[\"zeof1_lim_lv10\"])\n",
    "ze_lv1  = ssw.zeof1_lim(**params[\"zeof1_lim_lv1\"])\n",
    "event_dates_all += [ze_lv50, ze_lv10, ze_lv1]\n",
    "defn_all += [\"zeof1_lim_lv50\",\"zeof1_lim_lv10\",\"zeof1_lim_lv1\"]"
   ]
  },
  {
   "cell_type": "code",
   "execution_count": 9,
   "id": "690a6a3c-4383-4b18-b3b9-db93e0f928db",
   "metadata": {},
   "outputs": [
    {
     "name": "stdout",
     "output_type": "stream",
     "text": [
      "sh_ssw_totcol_o3_40DU.csv saved.\n"
     ]
    }
   ],
   "source": [
    "# ozone_butler\n",
    "o3 = ssw.ozone_butler(**params[\"ozone_butler\"])\n",
    "event_dates_all.append(o3); defn_all.append(\"ozone_butler\")"
   ]
  },
  {
   "cell_type": "code",
   "execution_count": 10,
   "id": "4c644bc6-9a87-4d0e-9479-dc42ba68ae25",
   "metadata": {},
   "outputs": [
    {
     "name": "stdout",
     "output_type": "stream",
     "text": [
      "['1982-10-21' '1986-09-06' '1988-08-30' '1988-09-25' '1990-09-28'\n",
      " '2000-10-18' '2002-08-22' '2004-09-28' '2007-09-19' '2008-08-05'\n",
      " '2009-07-23' '2012-08-20' '2012-10-08' '2013-09-19' '2017-09-20'\n",
      " '2019-09-01']\n",
      "16 3.8095238095238093 42.0\n",
      "['1979-10-22' '1980-07-28' '1981-07-28' '1982-10-07' '1985-06-12'\n",
      " '1988-09-25' '1994-05-30' '1995-07-14' '1996-09-13' '1999-06-16'\n",
      " '2000-10-27' '2002-09-02' '2003-10-31' '2004-10-15' '2005-10-08'\n",
      " '2007-07-05' '2008-08-04' '2012-10-09' '2013-10-02' '2013-10-30'\n",
      " '2014-10-10' '2016-10-18' '2017-10-26' '2019-09-13']\n",
      "24 5.7142857142857135 42.0\n"
     ]
    }
   ],
   "source": [
    "# uanom karpechko\n",
    "ua10 = ssw.u_anom_karpechko(**params[\"u_anom_karpechko_10\"])\n",
    "ua50 = ssw.u_anom_karpechko(**params[\"u_anom_karpechko_50\"])\n",
    "event_dates_all += [ua10, ua50]; defn_all += [\"u_anom_karpechko_10\",\"u_anom_karpechko_50\"]"
   ]
  },
  {
   "cell_type": "code",
   "execution_count": 11,
   "id": "61ace595-0ee1-4dfb-95ac-efe7e59d6984",
   "metadata": {},
   "outputs": [
    {
     "name": "stdout",
     "output_type": "stream",
     "text": [
      "['1980-10-03' '1982-10-02' '1983-10-26' '1984-09-29' '1990-09-22'\n",
      " '1992-09-25' '1993-10-18' '1997-10-29' '2000-09-30' '2002-08-17'\n",
      " '2003-09-29' '2004-09-12' '2005-10-07' '2006-10-15' '2007-09-13'\n",
      " '2008-10-07' '2009-09-27' '2012-10-04' '2013-10-15' '2014-10-09'\n",
      " '2017-09-07' '2019-09-01']\n",
      "22 5.238095238095238 42.0\n",
      "['1982-10-01' '1983-10-31' '1984-10-29' '1985-10-29' '1988-10-21'\n",
      " '1992-09-26' '1992-10-22' '1993-10-17' '1995-10-07' '1997-10-29'\n",
      " '1999-10-30' '2002-09-17' '2002-10-29' '2003-10-25' '2004-10-08'\n",
      " '2005-10-05' '2009-10-08' '2011-10-30' '2014-10-04' '2014-10-27'\n",
      " '2016-09-27' '2017-09-08' '2017-10-29']\n",
      "23 5.476190476190476 42.0\n"
     ]
    }
   ],
   "source": [
    "# utend kaprechko\n",
    "ut10 = ssw.u_tend_karpechko(**params[\"u_tend_karpechko_10\"])\n",
    "ut50 = ssw.u_tend_karpechko(**params[\"u_tend_karpechko_50\"])\n",
    "event_dates_all += [ut10, ut50]; defn_all += [\"u_tend_karpechko_10\",\"u_tend_karpechko_50\"]"
   ]
  },
  {
   "cell_type": "code",
   "execution_count": 12,
   "id": "eadefc9c-225d-4cb9-93df-dfca58ce31fc",
   "metadata": {},
   "outputs": [
    {
     "name": "stdout",
     "output_type": "stream",
     "text": [
      "ShenEtAl2022_org_Tgrad_1979_2021_era5.txt saved.\n"
     ]
    }
   ],
   "source": [
    "# polarT Shen\n",
    "pt = ssw.polarT_shen(**params[\"polarT_shen\"])\n",
    "event_dates_all.append(pt); defn_all.append(\"polarT_shen\")"
   ]
  },
  {
   "cell_type": "code",
   "execution_count": 13,
   "id": "8efc10b4-124f-43c3-b658-d4a57d20093d",
   "metadata": {},
   "outputs": [
    {
     "name": "stdout",
     "output_type": "stream",
     "text": [
      "FZ100_SH_ERA5_tau60_sfz36.csv saved.\n"
     ]
    }
   ],
   "source": [
    "# EPflux Reichler\n",
    "epf, dat = ssw.epflux_reichler(**params[\"epflux_reichler\"])\n",
    "event_dates_all.append(epf); defn_all.append(\"epflux_reichler\")"
   ]
  },
  {
   "cell_type": "code",
   "execution_count": 14,
   "id": "57fb58e7-1d6f-472a-81db-cc79e762917d",
   "metadata": {},
   "outputs": [
    {
     "name": "stdout",
     "output_type": "stream",
     "text": [
      "u10_60S_decel_events.csv saved.\n"
     ]
    }
   ],
   "source": [
    "# udecel Wu\n",
    "ud10, drops = ssw.u_decel_wu(**params[\"u_decel_wu_10\"])\n",
    "event_dates_all.append(ud10); defn_all.append(\"u_decel_wu_10\")"
   ]
  },
  {
   "cell_type": "code",
   "execution_count": 15,
   "id": "e068bf9c-d70d-40d7-8e79-c0e433f30bf5",
   "metadata": {},
   "outputs": [],
   "source": [
    "# # stmi Lim\n",
    "# stmi_years = ssw.stmi_lim(**params[\"stmi_lim\"])\n",
    "# event_dates_all.append(stmi_years); defn_all.append(\"stmi_lim\")"
   ]
  },
  {
   "cell_type": "markdown",
   "id": "bf68d920-20a7-415a-ba0e-aeae9044980f",
   "metadata": {},
   "source": [
    "- some statistics and some plots"
   ]
  },
  {
   "cell_type": "code",
   "execution_count": 16,
   "id": "ceec3bae-a880-4976-9ebb-9e7533daac0a",
   "metadata": {},
   "outputs": [],
   "source": [
    "def avg_events_per_decade(event_dates, clim_range):\n",
    "    \"\"\"\n",
    "    Average number of events per decade, given a climatological range.\n",
    "    \"\"\"\n",
    "    start = pd.to_datetime(clim_range[0]).year\n",
    "    end   = pd.to_datetime(clim_range[1]).year\n",
    "    n_years = end - start + 1\n",
    "    \n",
    "    n_events = len(event_dates)\n",
    "    return (n_events / n_years) * 10.0"
   ]
  },
  {
   "cell_type": "code",
   "execution_count": 17,
   "id": "9ad38809-0624-4035-9c93-44a2a776c12b",
   "metadata": {},
   "outputs": [],
   "source": [
    "def to_datetime_index(arr):\n",
    "    \"\"\"Best-effort conversion to a 1D pandas.DatetimeIndex.\"\"\"\n",
    "    # If a method returned a tuple (e.g., (events, meta)), take the first piece\n",
    "    if isinstance(arr, tuple):\n",
    "        arr = arr[0]\n",
    "\n",
    "    # xarray DataArray -> .values (but don't require xarray import)\n",
    "    if hasattr(arr, \"values\"):\n",
    "        arr = arr.values\n",
    "\n",
    "    # Convert to 1D numpy array\n",
    "    arr = np.asarray(arr).ravel()\n",
    "\n",
    "    # If already datetime64, let pandas handle it; else attempt parse\n",
    "    return pd.to_datetime(arr)"
   ]
  },
  {
   "cell_type": "code",
   "execution_count": 18,
   "id": "fe961969-a0da-493f-b5ca-d7d1a613219b",
   "metadata": {},
   "outputs": [
    {
     "data": {
      "image/png": "[encoded data removed]",
      "text/plain": [
       "<Figure size 1080x360 with 1 Axes>"
      ]
     },
     "metadata": {
      "needs_background": "light"
     },
     "output_type": "display_data"
    }
   ],
   "source": [
    "def plot_events_sorted(event_dates_all, defn_all, clim_range):\n",
    "    # --- compute averages ---\n",
    "    stats = []\n",
    "    for label, dates in zip(defn_all, event_dates_all):\n",
    "        avg_dec = avg_events_per_decade(dates, clim_range)\n",
    "        stats.append((label, dates, avg_dec))\n",
    "\n",
    "    # --- sort descending by avg events per decade ---\n",
    "    stats_sorted = sorted(stats, key=lambda x: x[2], reverse=False)\n",
    "\n",
    "    # --- plot ---\n",
    "    fig, ax = plt.subplots(figsize=(15, 5))\n",
    "    yticks, ylabels = [], []\n",
    "\n",
    "    for ypos, (label, dates, avg_dec) in enumerate(stats_sorted, start=1):\n",
    "        ax.vlines(dates, ypos - 0.4, ypos + 0.4, color='green', linewidth=2, alpha=0.9)\n",
    "        yticks.append(ypos)\n",
    "        ylabels.append(f\"{label} ({avg_dec:.1f}/decade)\")\n",
    "\n",
    "    ax.set_yticks(yticks)\n",
    "    ax.set_yticklabels(ylabels)\n",
    "\n",
    "    # x-axis: years\n",
    "    ax.xaxis.set_major_locator(mdates.YearLocator(5))\n",
    "    ax.xaxis.set_major_formatter(mdates.DateFormatter(\"%Y\"))\n",
    "    ax.set_xlabel(\"Year\")\n",
    "    ax.set_title(\"Detected Events – Sorted by # events per decade\")\n",
    "    ax.grid(True, axis=\"x\", linestyle=\":\", alpha=0.6)\n",
    "\n",
    "    plt.tight_layout()\n",
    "    plt.show()\n",
    "\n",
    "\n",
    "# Example usage\n",
    "clim_range = ['1979-01-01','2020-12-31']\n",
    "plot_events_sorted(event_dates_all, defn_all, clim_range)\n"
   ]
  },
  {
   "cell_type": "code",
   "execution_count": null,
   "id": "1119477c-7f64-4bc2-89c4-b66b3d5958a6",
   "metadata": {},
   "outputs": [],
   "source": []
  },
  {
   "cell_type": "code",
   "execution_count": null,
   "id": "e6d58522-dd6d-4ce9-aa4d-fc6fd2eb1104",
   "metadata": {},
   "outputs": [],
   "source": []
  }
 ],
 "metadata": {
  "kernelspec": {
   "display_name": "Python (iacpy3_2020)",
   "language": "python",
   "name": "iacpy3_2020"
  },
  "language_info": {
   "codemirror_mode": {
    "name": "ipython",
    "version": 3
   },
   "file_extension": ".py",
   "mimetype": "text/x-python",
   "name": "python",
   "nbconvert_exporter": "python",
   "pygments_lexer": "ipython3",
   "version": "3.7.6"
  }
 },
 "nbformat": 4,
 "nbformat_minor": 5
}
