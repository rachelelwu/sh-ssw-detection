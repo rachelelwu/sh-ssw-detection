{
 "cells": [
  {
   "cell_type": "code",
   "execution_count": 1,
   "id": "40da7149-46a8-43ec-9f63-dc254d3cb8a3",
   "metadata": {},
   "outputs": [],
   "source": [
    "import matplotlib.pyplot as plt"
   ]
  },
  {
   "cell_type": "code",
   "execution_count": 2,
   "id": "a557ae5f-c87f-433f-88e6-7591159e7c76",
   "metadata": {},
   "outputs": [],
   "source": [
    "import importlib"
   ]
  },
  {
   "cell_type": "code",
   "execution_count": 3,
   "id": "17c3bb51-e84f-44e2-8995-0be4a27cbf71",
   "metadata": {},
   "outputs": [],
   "source": [
    "import sh_ssw_methods as ssw"
   ]
  },
  {
   "cell_type": "code",
   "execution_count": 4,
   "id": "b2ac8ba2-393e-4874-8d82-bfa72de4845e",
   "metadata": {},
   "outputs": [],
   "source": [
    "import numpy as np\n",
    "import pandas as pd"
   ]
  },
  {
   "cell_type": "markdown",
   "id": "f80b811a-3285-43e5-853e-b53c6f5f2712",
   "metadata": {},
   "source": [
    "- set clim range"
   ]
  },
  {
   "cell_type": "code",
   "execution_count": 7,
   "id": "69ed3169-44cf-478b-b46a-f78541b5d75a",
   "metadata": {},
   "outputs": [],
   "source": [
    "output_csv = True\n",
    "clim_range=['1979-01-01','2020-12-31']"
   ]
  },
  {
   "cell_type": "code",
   "execution_count": 8,
   "id": "89cefff3-0dbd-4aa3-9bf0-1f8ae621237f",
   "metadata": {},
   "outputs": [],
   "source": [
    "def avg_events_per_decade(event_dates, clim_range):\n",
    "    \"\"\"\n",
    "    Average number of events per decade, given a climatological range.\n",
    "    \"\"\"\n",
    "    start = pd.to_datetime(clim_range[0]).year\n",
    "    end   = pd.to_datetime(clim_range[1]).year\n",
    "    n_years = end - start + 1\n",
    "    \n",
    "    n_events = len(event_dates)\n",
    "    return (n_events / n_years) * 10.0"
   ]
  },
  {
   "cell_type": "markdown",
   "id": "d8384d06-4f35-4f74-995a-3184f5989439",
   "metadata": {},
   "source": [
    "- all"
   ]
  },
  {
   "cell_type": "code",
   "execution_count": 24,
   "id": "b5c593d3-666f-461a-9fc3-a731c3c1920b",
   "metadata": {},
   "outputs": [],
   "source": [
    "event_dates_all = []\n",
    "defn_all = []"
   ]
  },
  {
   "cell_type": "markdown",
   "id": "ad7ba4cf-b19f-40b5-ab7e-e52b142438d4",
   "metadata": {},
   "source": [
    "- zeof"
   ]
  },
  {
   "cell_type": "code",
   "execution_count": 25,
   "id": "e957796e-9056-44d1-b165-15e7784e4032",
   "metadata": {},
   "outputs": [
    {
     "name": "stdout",
     "output_type": "stream",
     "text": [
      "Saved 28 events to EOF1.Z50.gt1.0.csv\n"
     ]
    }
   ],
   "source": [
    "zeof_path = 'data/zeof/'\n",
    "lv = 50\n",
    "\n",
    "zeof_events = ssw.zeof1_lim(lv, zeof_path)\n",
    "\n",
    "event_dates_all.append(zeof_events)\n",
    "defn_all.append('zeof1_lim')"
   ]
  },
  {
   "cell_type": "markdown",
   "id": "6fd5173f-4dad-40b7-9e08-c479ad2d2eb2",
   "metadata": {},
   "source": [
    "- amy's"
   ]
  },
  {
   "cell_type": "code",
   "execution_count": 26,
   "id": "a5bbb45c-9868-4f7e-b8ab-446f91ca564c",
   "metadata": {},
   "outputs": [
    {
     "name": "stdout",
     "output_type": "stream",
     "text": [
      "40\n"
     ]
    }
   ],
   "source": [
    "tco3_file = 'data/tco3_MERRA2.nc'\n",
    "\n",
    "thresh = None # default is 40 DU\n",
    "\n",
    "event_dates_o3 = ssw.ozone_butler(tco3_file, thresh, output_csv)\n",
    "\n",
    "event_dates_all.append(event_dates_o3)\n",
    "defn_all.append('ozone_butler')"
   ]
  },
  {
   "cell_type": "markdown",
   "id": "dc5821f8-510d-4da0-985d-14022ada9ba5",
   "metadata": {},
   "source": [
    "- alexey's"
   ]
  },
  {
   "cell_type": "code",
   "execution_count": 13,
   "id": "d44066e3-4322-4958-b7b3-ad0efdcb7279",
   "metadata": {
    "scrolled": true
   },
   "outputs": [
    {
     "name": "stdout",
     "output_type": "stream",
     "text": [
      "['1982-10-21' '1986-09-06' '1988-08-30' '1988-09-25' '1990-09-28'\n",
      " '2000-10-18' '2002-08-22' '2004-09-28' '2007-09-19' '2008-08-05'\n",
      " '2009-07-23' '2012-08-20' '2012-10-08' '2013-09-19' '2017-09-20'\n",
      " '2019-09-01']\n",
      "16 3.8095238095238093 42.0\n"
     ]
    }
   ],
   "source": [
    "wp0 = '10' \n",
    "thres = None # if None, default thresholds are used: wp0 = 10, thres = -20; if wp0 = 50, thres = -11\n",
    "u1060f = '/net/cfc/s2s_nobackup/rachwu/ERA5/u%s60s_era5_1959_2023.nc' % wp0\n",
    "\n",
    "event_dates_anom = ssw.u_anom_karpechko(u1060f, wp0, thres, clim_range, output_csv)"
   ]
  },
  {
   "cell_type": "code",
   "execution_count": 14,
   "id": "193abce7-0295-4135-b7b6-9d0c72810f1f",
   "metadata": {},
   "outputs": [
    {
     "name": "stdout",
     "output_type": "stream",
     "text": [
      "['1980-10-03' '1982-10-02' '1983-10-26' '1984-09-29' '1990-09-22'\n",
      " '1992-09-25' '1993-10-18' '1997-10-29' '2000-09-30' '2002-08-17'\n",
      " '2003-09-29' '2004-09-12' '2005-10-07' '2006-10-15' '2007-09-13'\n",
      " '2008-10-07' '2009-09-27' '2012-10-04' '2013-10-15' '2014-10-09'\n",
      " '2017-09-07' '2019-09-01']\n",
      "22 5.238095238095238 42.0\n"
     ]
    }
   ],
   "source": [
    "thres = None # if None, default thresholds are used: wp0 = 10, thres = -35, wp0 = 50, thres = -19\n",
    "event_dates_tend = ssw.u_tend_karpechko(u1060f, wp0, thres, clim_range, output_csv)"
   ]
  },
  {
   "cell_type": "markdown",
   "id": "c0c94ff1-9af6-4c4b-967d-05bd7480e327",
   "metadata": {},
   "source": [
    "- reichler"
   ]
  },
  {
   "cell_type": "code",
   "execution_count": 15,
   "id": "f89e3019-058e-4f50-815a-96e7efacd557",
   "metadata": {},
   "outputs": [
    {
     "name": "stdout",
     "output_type": "stream",
     "text": [
      "FZ100_SH_ERA5_tau60_sfz36.csv saved.\n"
     ]
    }
   ],
   "source": [
    "FN = 'data/f2bym_100_20_90_SH_ERA5_1979_2023.bin'\n",
    "\n",
    "DT = None # tau default = 60\n",
    "DU = None # driving units default = 36\n",
    "\n",
    "event_dates_epf, DAT = ssw.epflux_reichler(FN, DT, DU, output_csv)"
   ]
  },
  {
   "cell_type": "markdown",
   "id": "0486d891-d731-4b86-99fb-1ce0dd2ff53b",
   "metadata": {},
   "source": [
    "- lim"
   ]
  },
  {
   "cell_type": "code",
   "execution_count": 16,
   "id": "4e36b977-c800-453e-aa4f-8f8ad8197397",
   "metadata": {},
   "outputs": [
    {
     "name": "stdout",
     "output_type": "stream",
     "text": [
      "ShenEtAl2022_org_Tgrad_1979_2021_era5.txt saved.\n"
     ]
    }
   ],
   "source": [
    "Tmid_file = 'data/Tmid_polar_10hPa_daily_1959_2023_era5.nc'\n",
    "fw_dates_file = 'data/FSW_dates_SH_60S_10hPa_era5_1959_2023.nc'\n",
    "\n",
    "polarT_file = 'data/polarT_anom_10hPa_daily_1979_2021_era5.nc'\n",
    "\n",
    "event_dates_polarT = ssw.polarT_shen(Tmid_file, fw_dates_file, polarT_file, write_to_file=True)"
   ]
  },
  {
   "cell_type": "markdown",
   "id": "a197e36c-0a3d-4ad6-9e42-e0cfb50e6673",
   "metadata": {},
   "source": [
    "- rw"
   ]
  },
  {
   "cell_type": "code",
   "execution_count": 17,
   "id": "61cacafc-9597-440a-a990-5f22125eb5df",
   "metadata": {},
   "outputs": [],
   "source": [
    "wp0 = 10\n",
    "u1060f = '/net/cfc/s2s_nobackup/rachwu/ERA5/u%s60s_era5_1959_2023.nc' % wp0\n",
    "\n",
    "drop=None # for 10hPa, -2 m/s/day threshold\n",
    "\n",
    "# Example: detect deceleration events\n",
    "event_dates_udecel, drop_vals_udecel = ssw.u_decel_wu(u1060f, wp0, drop=drop)"
   ]
  },
  {
   "cell_type": "markdown",
   "id": "300cb97d-82f0-41d9-bd05-4c8e9d8868c4",
   "metadata": {},
   "source": [
    "- STcoupledmode"
   ]
  },
  {
   "cell_type": "code",
   "execution_count": 19,
   "id": "b76584bc-cbd4-4bbc-84c6-a2f9dabe4d5a",
   "metadata": {},
   "outputs": [],
   "source": [
    "pc1file = 'data/stcmI.1979-2023.txt'\n",
    "event_years_stmi = ssw.stmi_lim(pc1file)"
   ]
  },
  {
   "cell_type": "markdown",
   "id": "186d1020-5bc3-4fa8-ba8a-3d3b1bb68bdc",
   "metadata": {},
   "source": [
    "- plot all"
   ]
  },
  {
   "cell_type": "code",
   "execution_count": null,
   "id": "be3e2240-6e97-4c2d-ae0e-95424bb7742d",
   "metadata": {},
   "outputs": [],
   "source": []
  }
 ],
 "metadata": {
  "kernelspec": {
   "display_name": "Python (iacpy3_2024)",
   "language": "python",
   "name": "iacpy3_2024"
  },
  "language_info": {
   "codemirror_mode": {
    "name": "ipython",
    "version": 3
   },
   "file_extension": ".py",
   "mimetype": "text/x-python",
   "name": "python",
   "nbconvert_exporter": "python",
   "pygments_lexer": "ipython3",
   "version": "3.11.8"
  }
 },
 "nbformat": 4,
 "nbformat_minor": 5
}
